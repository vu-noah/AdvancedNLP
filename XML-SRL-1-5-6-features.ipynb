{
 "cells": [
  {
   "cell_type": "code",
   "execution_count": 10,
   "id": "3e815888-d544-48f9-8368-9002faeb3b5f",
   "metadata": {},
   "outputs": [
    {
     "name": "stderr",
     "output_type": "stream",
     "text": [
      "2023-02-15 20:14:04 INFO: Loading these models for language: en (English):\n",
      "===========================\n",
      "| Processor    | Package  |\n",
      "---------------------------\n",
      "| tokenize     | combined |\n",
      "| pos          | combined |\n",
      "| lemma        | combined |\n",
      "| depparse     | combined |\n",
      "| constituency | wsj      |\n",
      "===========================\n",
      "\n",
      "2023-02-15 20:14:04 INFO: Use device: cpu\n",
      "2023-02-15 20:14:04 INFO: Loading: tokenize\n",
      "2023-02-15 20:14:04 INFO: Loading: pos\n",
      "2023-02-15 20:14:05 INFO: Loading: lemma\n",
      "2023-02-15 20:14:05 INFO: Loading: depparse\n",
      "2023-02-15 20:14:05 INFO: Loading: constituency\n",
      "2023-02-15 20:14:07 INFO: Done loading processors!\n"
     ]
    }
   ],
   "source": [
    "import stanza\n",
    "\n",
    "nlp = stanza.Pipeline(lang='en', processors='tokenize,pos, lemma, constituency, depparse', download_method=None)"
   ]
  },
  {
   "cell_type": "code",
   "execution_count": 2,
   "id": "49b5288d-f3d3-45cc-bba8-4c237d781c0b",
   "metadata": {},
   "outputs": [],
   "source": [
    "### ENTER EXAMPLE TEXT\n",
    "doc = nlp('I threw the ball to Mary. She liked it.')"
   ]
  },
  {
   "cell_type": "code",
   "execution_count": 3,
   "id": "4c02e0a8-46b9-494e-b141-614149a7d58e",
   "metadata": {},
   "outputs": [
    {
     "name": "stdout",
     "output_type": "stream",
     "text": [
      "SENTENCE: (ROOT (S (NP (PRP I)) (VP (VBD threw) (NP (DT the) (NN ball)) (PP (IN to) (NP (NNP Mary)))) (. .)))\n",
      "\n",
      "XML TREE:\n",
      "<sentence>\n",
      "  <S>\n",
      "    <NP>\n",
      "      <terminal POS=\"PRP\">I</terminal>\n",
      "    </NP>\n",
      "    <VP>\n",
      "      <terminal POS=\"VBD\">threw</terminal>\n",
      "      <NP>\n",
      "        <terminal POS=\"DT\">the</terminal>\n",
      "        <terminal POS=\"NN\">ball</terminal>\n",
      "      </NP>\n",
      "      <PP>\n",
      "        <terminal POS=\"IN\">to</terminal>\n",
      "        <NP>\n",
      "          <terminal POS=\"NNP\">Mary</terminal>\n",
      "        </NP>\n",
      "      </PP>\n",
      "    </VP>\n",
      "    <terminal POS=\".\">.</terminal>\n",
      "  </S>\n",
      "</sentence>\n"
     ]
    }
   ],
   "source": [
    "from lxml import etree\n",
    "\n",
    "def parse_string_to_xml(node, constituent):\n",
    "    for child in constituent.children:\n",
    "        if len(str(child).split(' ')) == 2:\n",
    "            elem = etree.SubElement(node, 'terminal')\n",
    "            elem.set('POS', str(child).split(' ')[0].strip('(')) \n",
    "            elem.text = str(child).split(' ')[1].strip(')')\n",
    "            continue\n",
    "        else:\n",
    "            try:\n",
    "                elem = etree.SubElement(node, str(child).split(' ')[0].strip('('))\n",
    "            except ValueError:\n",
    "                elem = etree.SubElement(node, 'PUNCT')\n",
    "            if len(str(child).split(' ')) == 2:\n",
    "                elem.text = str(child).split(' ')[1].strip(')')\n",
    "                continue\n",
    "            \n",
    "        parse_string_to_xml(elem, child)\n",
    "                \n",
    "    return node\n",
    "  \n",
    "###CREATING A TREE FOR ONE SENTENCE\n",
    "sentence = doc.sentences[0]\n",
    "print(\"SENTENCE:\", sentence.constituency)\n",
    "print()\n",
    "root = etree.Element(\"sentence\")\n",
    "tree = parse_string_to_xml(root, sentence.constituency)\n",
    "\n",
    "print(\"XML TREE:\")\n",
    "etree.dump(tree)"
   ]
  },
  {
   "cell_type": "code",
   "execution_count": 7,
   "id": "bac6bbd5-1dde-4f22-a29c-22ff8639ac2c",
   "metadata": {},
   "outputs": [
    {
     "name": "stdout",
     "output_type": "stream",
     "text": [
      "['the', 'ball']\n",
      "['DT', 'NN']\n"
     ]
    }
   ],
   "source": [
    "# Feature 1\n",
    "#GET THE FULL CONSTITUENT FOR THE TOKEN 'BALL' - both tokens and \n",
    "constituent_tokens = []\n",
    "constituent_pos = []\n",
    "for elem in tree.iter():\n",
    "    if elem.text == 'ball':\n",
    "        parent = (elem.getparent())\n",
    "        for elem2 in parent.findall(\"terminal\"):\n",
    "            constituent_tokens.append(elem2.text)\n",
    "            constituent_pos.append(elem2.attrib['POS'])\n",
    "            \n",
    "print(constituent_tokens)\n",
    "print(constituent_pos)"
   ]
  },
  {
   "cell_type": "code",
   "execution_count": 8,
   "id": "55fe27bd-608b-4c06-9f8e-599a6b9bf837",
   "metadata": {},
   "outputs": [
    {
     "data": {
      "text/plain": [
       "'NP'"
      ]
     },
     "execution_count": 8,
     "metadata": {},
     "output_type": "execute_result"
    }
   ],
   "source": [
    "# Feature 5\n",
    "### getting phrase type of a token\n",
    "def get_phrase_type(tree, token):\n",
    "    for elem in tree.iter():\n",
    "        if elem.text == token:\n",
    "            parent = (elem.getparent())\n",
    "            return parent.tag\n",
    "\n",
    "    return 'Token not in tree'   \n",
    "\n",
    "get_phrase_type(tree, 'Mary')"
   ]
  },
  {
   "cell_type": "code",
   "execution_count": 9,
   "id": "935382e3-6f79-463f-a7d6-24cc39e04994",
   "metadata": {},
   "outputs": [
    {
     "name": "stdout",
     "output_type": "stream",
     "text": [
      "['S', None, 'VP', 'VP', None, 'VP', None]\n"
     ]
    }
   ],
   "source": [
    "# Feature 6\n",
    "feature_6 = []\n",
    "\n",
    "for elem in root.findall('.//terminal'):\n",
    "    if elem.getparent().tag == 'NP':\n",
    "        if elem.getparent() not in root.find('.//VP').findall('.//NP'):\n",
    "            feature_6.append('S')\n",
    "        else:\n",
    "            feature_6.append('VP')\n",
    "    else:\n",
    "        feature_6.append(None)\n",
    "\n",
    "print(feature_6)"
   ]
  }
 ],
 "metadata": {
  "kernelspec": {
   "display_name": "Python 3 (ipykernel)",
   "language": "python",
   "name": "python3"
  },
  "language_info": {
   "codemirror_mode": {
    "name": "ipython",
    "version": 3
   },
   "file_extension": ".py",
   "mimetype": "text/x-python",
   "name": "python",
   "nbconvert_exporter": "python",
   "pygments_lexer": "ipython3",
   "version": "3.9.12"
  }
 },
 "nbformat": 4,
 "nbformat_minor": 5
}
