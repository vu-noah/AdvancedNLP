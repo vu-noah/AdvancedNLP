{
 "cells": [
  {
   "cell_type": "code",
   "execution_count": 1,
   "id": "3c97195d",
   "metadata": {},
   "outputs": [
    {
     "name": "stderr",
     "output_type": "stream",
     "text": [
      "2023-02-15 17:28:26 INFO: Checking for updates to resources.json in case models have been updated.  Note: this behavior can be turned off with download_method=None or download_method=DownloadMethod.REUSE_RESOURCES\n"
     ]
    },
    {
     "data": {
      "application/vnd.jupyter.widget-view+json": {
       "model_id": "931f798a07be432d80f245e2372a097f",
       "version_major": 2,
       "version_minor": 0
      },
      "text/plain": [
       "Downloading https://raw.githubusercontent.com/stanfordnlp/stanza-resources/main/resources_1.4.1.json:   0%|   …"
      ]
     },
     "metadata": {},
     "output_type": "display_data"
    },
    {
     "name": "stderr",
     "output_type": "stream",
     "text": [
      "2023-02-15 17:28:27 INFO: Loading these models for language: en (English):\n",
      "===========================\n",
      "| Processor    | Package  |\n",
      "---------------------------\n",
      "| tokenize     | combined |\n",
      "| pos          | combined |\n",
      "| lemma        | combined |\n",
      "| depparse     | combined |\n",
      "| constituency | wsj      |\n",
      "===========================\n",
      "\n",
      "2023-02-15 17:28:27 INFO: Use device: cpu\n",
      "2023-02-15 17:28:27 INFO: Loading: tokenize\n",
      "2023-02-15 17:28:27 INFO: Loading: pos\n",
      "2023-02-15 17:28:27 INFO: Loading: lemma\n",
      "2023-02-15 17:28:27 INFO: Loading: depparse\n",
      "2023-02-15 17:28:27 INFO: Loading: constituency\n",
      "2023-02-15 17:28:28 INFO: Done loading processors!\n"
     ]
    }
   ],
   "source": [
    "import stanza\n",
    "\n",
    "nlp = stanza.Pipeline(lang='en', processors='tokenize,pos, lemma, constituency, depparse')\n"
   ]
  },
  {
   "cell_type": "code",
   "execution_count": 27,
   "id": "652b681c",
   "metadata": {},
   "outputs": [],
   "source": [
    "### ENTER EXAMPLE TEXT\n",
    "doc = nlp('I threw the ball to Mary. She liked it.')"
   ]
  },
  {
   "cell_type": "code",
   "execution_count": 53,
   "id": "170f4147",
   "metadata": {},
   "outputs": [
    {
     "name": "stdout",
     "output_type": "stream",
     "text": [
      "SENTENCE: (ROOT (S (NP (PRP I)) (VP (VBD threw) (NP (DT the) (NN ball)) (PP (IN to) (NP (NNP Mary)))) (. .)))\n",
      "\n",
      "XML TREE:\n",
      "<sentence>\n",
      "  <S>\n",
      "    <NP>\n",
      "      <terminal POS=\"PRP\">I</terminal>\n",
      "    </NP>\n",
      "    <VP>\n",
      "      <terminal POS=\"VBD\">threw</terminal>\n",
      "      <NP>\n",
      "        <terminal POS=\"DT\">the</terminal>\n",
      "        <terminal POS=\"NN\">ball</terminal>\n",
      "      </NP>\n",
      "      <PP>\n",
      "        <terminal POS=\"IN\">to</terminal>\n",
      "        <NP>\n",
      "          <terminal POS=\"NNP\">Mary</terminal>\n",
      "        </NP>\n",
      "      </PP>\n",
      "    </VP>\n",
      "    <terminal POS=\".\">.</terminal>\n",
      "  </S>\n",
      "</sentence>\n"
     ]
    }
   ],
   "source": [
    "from lxml import etree\n",
    "\n",
    "def parse_string_to_xml(node, constituent):\n",
    "    for child in constituent.children:\n",
    "        if len(str(child).split(' ')) == 2:\n",
    "            elem = etree.SubElement(node, 'terminal')\n",
    "            elem.set('POS', str(child).split(' ')[0].strip('(')) \n",
    "            elem.text = str(child).split(' ')[1].strip(')')\n",
    "            continue\n",
    "        else:\n",
    "            try:\n",
    "                elem = etree.SubElement(node, str(child).split(' ')[0].strip('('))\n",
    "            except ValueError:\n",
    "                elem = etree.SubElement(node, 'PUNCT')\n",
    "            if len(str(child).split(' ')) == 2:\n",
    "                elem.text = str(child).split(' ')[1].strip(')')\n",
    "                continue\n",
    "            \n",
    "        parse_string_to_xml(elem, child)\n",
    "                \n",
    "    return node\n",
    "\n",
    "\n",
    "  \n",
    "###CREATING A TREE FOR ONE SENTENCE\n",
    "sentence = doc.sentences[0]\n",
    "print(\"SENTENCE:\", sentence.constituency)\n",
    "print()\n",
    "root = etree.Element(\"sentence\")\n",
    "tree = parse_string_to_xml(root, sentence.constituency)\n",
    "\n",
    "print(\"XML TREE:\")\n",
    "etree.dump(tree)\n",
    "\n",
    "\n",
    "\n",
    "\n",
    "    \n",
    "    \n",
    "\n",
    "\n",
    "\n"
   ]
  },
  {
   "cell_type": "code",
   "execution_count": 51,
   "id": "4d55acce",
   "metadata": {},
   "outputs": [
    {
     "data": {
      "text/plain": [
       "'NP'"
      ]
     },
     "execution_count": 51,
     "metadata": {},
     "output_type": "execute_result"
    }
   ],
   "source": [
    "    \n",
    "### getting phrase type of a token\n",
    "def get_phrase_type(tree, token):\n",
    "    for elem in tree.iter():\n",
    "        if elem.text == token:\n",
    "            parent = (elem.getparent())\n",
    "            return parent.tag\n",
    "\n",
    "    return 'Token not in tree'   \n",
    "\n",
    "get_phrase_type(tree, 'Mary')"
   ]
  },
  {
   "cell_type": "code",
   "execution_count": 55,
   "id": "ede4c419",
   "metadata": {},
   "outputs": [
    {
     "name": "stdout",
     "output_type": "stream",
     "text": [
      "['the', 'ball']\n",
      "['DT', 'NN']\n"
     ]
    }
   ],
   "source": [
    "    \n",
    "#GET THE FULL CONSTITUENT FOR THE TOKEN 'BALL' - both tokens and \n",
    "constituent_tokens = []\n",
    "constituent_pos = []\n",
    "for elem in tree.iter():\n",
    "    if elem.text == 'ball':\n",
    "        parent = (elem.getparent())\n",
    "        for elem2 in parent.findall(\"terminal\"):\n",
    "            constituent_tokens.append(elem2.text)\n",
    "            constituent_pos.append(elem2.attrib['POS'])\n",
    "            \n",
    "print(constituent_tokens)\n",
    "print(constituent_pos)"
   ]
  }
 ],
 "metadata": {
  "kernelspec": {
   "display_name": "Python 3 (ipykernel)",
   "language": "python",
   "name": "python3"
  },
  "language_info": {
   "codemirror_mode": {
    "name": "ipython",
    "version": 3
   },
   "file_extension": ".py",
   "mimetype": "text/x-python",
   "name": "python",
   "nbconvert_exporter": "python",
   "pygments_lexer": "ipython3",
   "version": "3.9.7"
  }
 },
 "nbformat": 4,
 "nbformat_minor": 5
}
