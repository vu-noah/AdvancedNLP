{
 "cells": [
  {
   "cell_type": "code",
   "execution_count": 5,
   "id": "74c890ce-6d11-47d6-b253-32f96f768ff4",
   "metadata": {},
   "outputs": [],
   "source": [
    "# Create mini train file for the first 92 lines\n",
    "\n",
    "with open('en_ewt-up-train.conllu', 'r') as input_file, open('trial_mini_train.conllu', 'w') as output_file:\n",
    "    for i, line in enumerate(input_file):\n",
    "        if i < 92:\n",
    "            output_file.write(line)\n",
    "        else:\n",
    "            break"
   ]
  },
  {
   "cell_type": "code",
   "execution_count": 6,
   "id": "6b1cc3b7-a5c8-4f57-bdc0-0a5391e87f4c",
   "metadata": {},
   "outputs": [],
   "source": [
    "# Create mini test file for the first 77 lines\n",
    "with open('en_ewt-up-test.conllu', 'r') as input_file, open('trial_mini_test.conllu', 'w') as output_file:\n",
    "    for i, line in enumerate(input_file):\n",
    "        if i < 77:\n",
    "            output_file.write(line)\n",
    "        else:\n",
    "            break"
   ]
  },
  {
   "cell_type": "code",
   "execution_count": null,
   "id": "6ba9b2a5-41f4-4960-8754-48dd54c86e28",
   "metadata": {},
   "outputs": [],
   "source": []
  }
 ],
 "metadata": {
  "kernelspec": {
   "display_name": "Python 3 (ipykernel)",
   "language": "python",
   "name": "python3"
  },
  "language_info": {
   "codemirror_mode": {
    "name": "ipython",
    "version": 3
   },
   "file_extension": ".py",
   "mimetype": "text/x-python",
   "name": "python",
   "nbconvert_exporter": "python",
   "pygments_lexer": "ipython3",
   "version": "3.9.12"
  }
 },
 "nbformat": 4,
 "nbformat_minor": 5
}
