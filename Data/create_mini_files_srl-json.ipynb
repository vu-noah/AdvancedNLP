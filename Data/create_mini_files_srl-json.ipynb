{
 "cells": [
  {
   "cell_type": "code",
   "execution_count": 21,
   "id": "6b1cc3b7-a5c8-4f57-bdc0-0a5391e87f4c",
   "metadata": {},
   "outputs": [],
   "source": [
    "# Create mini test file for the first 100 lines\n",
    "with open('train_data.json', 'r') as infile, open('mini_train.json', 'w') as outfile:\n",
    "    for i, line in enumerate(infile):\n",
    "        if i < 100:\n",
    "            outfile.write(line)\n",
    "        else:\n",
    "            break"
   ]
  },
  {
   "cell_type": "code",
   "execution_count": 22,
   "id": "6ba9b2a5-41f4-4960-8754-48dd54c86e28",
   "metadata": {},
   "outputs": [],
   "source": [
    "# Create mini test file for the first 50 lines\n",
    "with open('test_data.json', 'r') as infile, open('mini_test.json', 'w') as outfile:\n",
    "    for i, line in enumerate(infile):\n",
    "        if i < 50:\n",
    "            outfile.write(line)\n",
    "        else:\n",
    "            break"
   ]
  }
 ],
 "metadata": {
  "kernelspec": {
   "display_name": "Python 3 (ipykernel)",
   "language": "python",
   "name": "python3"
  },
  "language_info": {
   "codemirror_mode": {
    "name": "ipython",
    "version": 3
   },
   "file_extension": ".py",
   "mimetype": "text/x-python",
   "name": "python",
   "nbconvert_exporter": "python",
   "pygments_lexer": "ipython3",
   "version": "3.9.12"
  }
 },
 "nbformat": 4,
 "nbformat_minor": 5
}
